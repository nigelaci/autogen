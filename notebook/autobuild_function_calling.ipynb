{
 "cells": [
  {
   "cell_type": "markdown",
   "metadata": {},
   "source": [
    "# AutoBuild Conversable Agents: Task Solving with Provided Tools as Functions\n",
    "\n",
    "In this notebook, we demonstrate how `AssistantAgent` and `UserProxyAgent` agents generated in `AgentBuilder.build()` can make function calls. Here we pass all the functions to be registered with agents into an array `list_of_functions` as a parameter to `build()`. The LLM will automatically determine the appropriate function to register with the Agents."
   ]
  },
  {
   "cell_type": "markdown",
   "metadata": {},
   "source": [
    "## Requirement\n",
    "\n",
    "AutoBuild require `pyautogen[autobuild]`, which can be installed by the following command:"
   ]
  },
  {
   "cell_type": "code",
   "execution_count": null,
   "metadata": {},
   "outputs": [],
   "source": [
    "%pip install pyautogen[autobuild]"
   ]
  },
  {
   "cell_type": "markdown",
   "metadata": {},
   "source": [
    "## Step 1: Prepare configuration and some useful functions\n",
    "Prepare a `config_file_or_env` for assistant agent to limit the choice of LLM you want to use in this task. This config can be a path of json file or a name of environment variable."
   ]
  },
  {
   "cell_type": "code",
   "execution_count": 1,
   "metadata": {},
   "outputs": [],
   "source": [
    "from IPython import get_ipython\n",
    "from typing_extensions import Annotated\n",
    "\n",
    "import autogen\n",
    "from autogen.agentchat.contrib.agent_builder import AgentBuilder\n",
    "\n",
    "config_file_or_env = \"OAI_CONFIG_LIST\"\n",
    "\n",
    "config_list = autogen.config_list_from_json(config_file_or_env, filter_dict={\"model\": [\"gpt-4-1106-preview\", \"gpt-4\"]})\n",
    "\n",
    "llm_config = {\n",
    "    \"config_list\": config_list,\n",
    "    \"timeout\": 120,\n",
    "}\n",
    "\n",
    "\n",
    "def start_task(execution_task: str, agent_list: list):\n",
    "    group_chat = autogen.GroupChat(agents=agent_list, messages=[], max_round=12)\n",
    "    manager = autogen.GroupChatManager(groupchat=group_chat, llm_config={\"config_list\": config_list})\n",
    "    agent_list[0].initiate_chat(manager, message=execution_task)"
   ]
  },
  {
   "cell_type": "markdown",
   "metadata": {},
   "source": [
    "## Step 2: Defining Function Calls\n",
    "\n",
    "Here, we define functions and specify the description of the function. We create `list_of_functions` in the following format:\n",
    "\n",
    "list_of_functions = [\n",
    "    {\"name\": \"<name_of_the_function>\", \"description\": \"<description_of_function>\", \"function\": <function>},\n",
    "    ...\n",
    "]\n",
    "\n",
    "LLM uses function name, function description, agent name, agent description to determine appropriate function registration with an agent."
   ]
  },
  {
   "cell_type": "code",
   "execution_count": 2,
   "metadata": {},
   "outputs": [],
   "source": [
    "def exec_python(cell: Annotated[str, \"Valid Python cell to execute.\"]) -> str:\n",
    "    ipython = get_ipython()\n",
    "    result = ipython.run_cell(cell)\n",
    "    log = str(result.result)\n",
    "    if result.error_before_exec is not None:\n",
    "        log += f\"\\n{result.error_before_exec}\"\n",
    "    if result.error_in_exec is not None:\n",
    "        log += f\"\\n{result.error_in_exec}\"\n",
    "    return log\n",
    "\n",
    "\n",
    "list_of_functions = [\n",
    "    {\n",
    "        \"name\": \"exec_python\",\n",
    "        \"description\": \"run cell in ipython and return the execution result.\",\n",
    "        \"function\": exec_python,\n",
    "    }\n",
    "]"
   ]
  },
  {
   "cell_type": "markdown",
   "metadata": {},
   "source": [
    "## Step 3: Create a AgentBuilder\n",
    "Create a `AgentBuilder` with the specified `config_path_or_env`. AgentBuilder will use `gpt-4` in default to complete the whole process, you can specify the `builder_model` and `agent_model` to other OpenAI model to match your task. \n",
    "You can also specify an open-source LLM supporting by vLLM and FastChat, see blog for more details."
   ]
  },
  {
   "cell_type": "code",
   "execution_count": 3,
   "metadata": {},
   "outputs": [],
   "source": [
    "builder = AgentBuilder(\n",
    "    config_file_or_env=config_file_or_env, builder_model=\"gpt-4-1106-preview\", agent_model=\"gpt-4-1106-preview\"\n",
    ")"
   ]
  },
  {
   "cell_type": "markdown",
   "metadata": {},
   "source": [
    "## Step 4: Specify a building task\n",
    "\n",
    "Specify a building task with a general description. Building task will help build manager (a LLM) decide what agents should be built."
   ]
  },
  {
   "cell_type": "code",
   "execution_count": 4,
   "metadata": {},
   "outputs": [],
   "source": [
    "building_task = \"Draw two agents chatting with each other with an example dialog using matplotlib.\""
   ]
  },
  {
   "cell_type": "markdown",
   "metadata": {},
   "source": [
    "## Step 5: Build group chat agents\n",
    "Use `build()` to let build manager (the specified `builder_model`) complete the group chat agents generation. Pass the `list_of_functions` to `build()`. To let functions get registered to the agents."
   ]
  },
  {
   "cell_type": "code",
   "execution_count": 5,
   "metadata": {},
   "outputs": [
    {
     "name": "stdout",
     "output_type": "stream",
     "text": [
      "==> Generating agents...\n",
      "['matplotlib_visual_designer', 'dialog_content_creator', 'python_matplotlib_developer'] are generated.\n",
      "==> Generating system message...\n",
      "Preparing system message for matplotlib_visual_designer\n",
      "Preparing system message for dialog_content_creator\n",
      "Preparing system message for python_matplotlib_developer\n",
      "==> Generating description...\n",
      "Preparing description for matplotlib_visual_designer\n",
      "Preparing description for dialog_content_creator\n",
      "Preparing description for python_matplotlib_developer\n",
      "==> Creating agents...\n",
      "Creating agent matplotlib_visual_designer with backbone gpt-4-1106-preview...\n"
     ]
    },
    {
     "name": "stderr",
     "output_type": "stream",
     "text": [
      "/home/vscode/.local/lib/python3.10/site-packages/tqdm/auto.py:21: TqdmWarning: IProgress not found. Please update jupyter and ipywidgets. See https://ipywidgets.readthedocs.io/en/stable/user_install.html\n",
      "  from .autonotebook import tqdm as notebook_tqdm\n"
     ]
    },
    {
     "name": "stdout",
     "output_type": "stream",
     "text": [
      "Creating agent dialog_content_creator with backbone gpt-4-1106-preview...\n",
      "Creating agent python_matplotlib_developer with backbone gpt-4-1106-preview...\n",
      "Adding user console proxy...\n",
      "==> Mapping functions with Agents\n",
      "Function exec_python is mapped to python_matplotlib_developer agent.\n"
     ]
    }
   ],
   "source": [
    "agent_list, agent_configs = builder.build(building_task, llm_config, list_of_functions)"
   ]
  },
  {
   "cell_type": "markdown",
   "metadata": {},
   "source": [
    "## Step 6: Execute task\n",
    "Let agents generated in `build()` to complete the task collaboratively in a group chat."
   ]
  },
  {
   "cell_type": "code",
   "execution_count": 7,
   "metadata": {},
   "outputs": [
    {
     "name": "stdout",
     "output_type": "stream",
     "text": [
      "\u001b[33mUser_console_and_code_interpreter\u001b[0m (to chat_manager):\n",
      "\n",
      "Draw two agents chatting with each other with an example dialog using matplotlib.\n",
      "\n",
      "--------------------------------------------------------------------------------\n",
      "\u001b[33mpython_matplotlib_developer\u001b[0m (to chat_manager):\n",
      "\n",
      "\u001b[32m***** Suggested tool call (call_Nz8UGiRqterWwQJAe5vuSCt4): exec_python *****\u001b[0m\n",
      "Arguments: \n",
      "import matplotlib.pyplot as plt\n",
      "import matplotlib.patches as patches\n",
      "\n",
      "def draw_chat_agents():\n",
      "    fig, ax = plt.subplots()\n",
      "\n",
      "    # Agent 1 bubble\n",
      "    agent1_bubble = patches.FancyBboxPatch(\n",
      "        (0.2, 0.5), 0.2, 0.1,\n",
      "        boxstyle=\"round,pad=0.1\",\n",
      "        fc=\"lightblue\",\n",
      "        ec=\"blue\"\n",
      "    )\n",
      "    \n",
      "    # Agent 2 bubble\n",
      "    agent2_bubble = patches.FancyBboxPatch(\n",
      "        (0.6, 0.7), 0.2, 0.1,\n",
      "        boxstyle=\"round,pad=0.1\",\n",
      "        fc=\"lightgreen\",\n",
      "        ec=\"green\"\n",
      "    )\n",
      "\n",
      "    ax.add_patch(agent1_bubble)\n",
      "    ax.add_patch(agent2_bubble)\n",
      "\n",
      "    # Agent 1 text\n",
      "    plt.text(0.2, 0.55, \"Hello!\", ha=\"center\", va=\"center\", fontsize=12)\n",
      "\n",
      "    # Agent 2 text\n",
      "    plt.text(0.6, 0.75, \"Hi there!\", ha=\"center\", va=\"center\", fontsize=12)\n",
      "\n",
      "    # Removing axes\n",
      "    ax.axis('off')\n",
      "\n",
      "    plt.show()\n",
      "\n",
      "# Call the function to draw the chat agents\n",
      "draw_chat_agents()\n",
      "\u001b[32m****************************************************************************\u001b[0m\n",
      "\n",
      "--------------------------------------------------------------------------------\n",
      "\u001b[33mUser_console_and_code_interpreter\u001b[0m (to chat_manager):\n",
      "\n",
      "\u001b[33mUser_console_and_code_interpreter\u001b[0m (to chat_manager):\n",
      "\n",
      "\u001b[32m***** Response from calling tool (call_Nz8UGiRqterWwQJAe5vuSCt4) *****\u001b[0m\n",
      "Error: Expecting value: line 1 column 1 (char 0)\n",
      " You argument should follow json format.\n",
      "\u001b[32m**********************************************************************\u001b[0m\n",
      "\n",
      "--------------------------------------------------------------------------------\n"
     ]
    },
    {
     "name": "stdout",
     "output_type": "stream",
     "text": [
      "\u001b[33mUser_console_and_code_interpreter\u001b[0m (to chat_manager):\n",
      "\n",
      "\n",
      "\n",
      "--------------------------------------------------------------------------------\n",
      "\u001b[33mpython_matplotlib_developer\u001b[0m (to chat_manager):\n",
      "\n",
      "\u001b[32m***** Suggested tool call (call_JAqBFdGQU0OSz7zp0VoA5xP1): exec_python *****\u001b[0m\n",
      "Arguments: \n",
      "{\n",
      "  \"cell\": \"import matplotlib.pyplot as plt\\nimport matplotlib.patches as patches\\n\\n# Define a figure and axis\\ndef draw_chat_agents():\\n    fig, ax = plt.subplots()\\n\\n    # Create speech bubbles as patches\\n    bubble1 = patches.FancyBboxPatch((0.2, 0.6), 0.5, 0.1,\\n                                     boxstyle=\\\"round,pad=0.1\\\", fc=\\\"lightblue\\\")\\n    bubble2 = patches.FancyBboxPatch((0.5, 0.3), 0.5, 0.1,\\n                                     boxstyle=\\\"round,pad=0.1\\\", fc=\\\"pink\\\")\\n    ax.add_patch(bubble1)\\n    ax.add_patch(bubble2)\\n\\n    # Add text to the speech bubbles\\n    plt.text(0.45, 0.65, \\\"Hello, how are you?\\\", ha='center', va='center')\\n    plt.text(0.75, 0.35, \\\"I'm fine, thanks!\\\", ha='center', va='center')\\n\\n    # Draw agents as circles\\n    agent1_head = plt.Circle((0.2, 0.5), 0.05, color='blue', ec='black')\\n    agent2_head = plt.Circle((0.7, 0.2), 0.05, color='red', ec='black')\\n    ax.add_artist(agent1_head)\\n    ax.add_artist(agent2_head)\\n\\n    # Hide the axes\\n    ax.set_axis_off()\\n    plt.xlim(0, 1)\\n    plt.ylim(0, 1)\\n\\n    # Show plot\\n    plt.show()\\n\\n# Call the function to draw chat agents\\n# Note: This cell would print the plot when executed.\\ndraw_chat_agents()\\n\"\n",
      "}\n",
      "\u001b[32m****************************************************************************\u001b[0m\n",
      "\n",
      "--------------------------------------------------------------------------------\n",
      "\u001b[35m\n",
      ">>>>>>>> EXECUTING FUNCTION exec_python...\u001b[0m\n"
     ]
    },
    {
     "data": {
      "image/png": "[encoded data removed]",
      "text/plain": [
       "<Figure size 640x480 with 1 Axes>"
      ]
     },
     "metadata": {},
     "output_type": "display_data"
    },
    {
     "name": "stdout",
     "output_type": "stream",
     "text": [
      "\u001b[33mUser_console_and_code_interpreter\u001b[0m (to chat_manager):\n",
      "\n",
      "\u001b[33mUser_console_and_code_interpreter\u001b[0m (to chat_manager):\n",
      "\n",
      "\u001b[32m***** Response from calling tool (call_JAqBFdGQU0OSz7zp0VoA5xP1) *****\u001b[0m\n",
      "None\n",
      "\u001b[32m**********************************************************************\u001b[0m\n",
      "\n",
      "--------------------------------------------------------------------------------\n",
      "\u001b[33mmatplotlib_visual_designer\u001b[0m (to chat_manager):\n",
      "\n",
      "I have created a static image representation of two agents chatting using matplotlib in Python. Each agent has a colored speech bubble, representing a piece of their conversation.\n",
      "\n",
      "Here is the visual representation of the conversation:\n",
      "\n",
      "- Agent 1 (blue) says, \"Hello, how are you?\"\n",
      "- Agent 2 (red) replies, \"I'm fine, thanks!\"\n",
      "\n",
      "This is the chat visualization that I have built based on the input provided. \n",
      "\n",
      "If you require any additional changes or another type of visualization, please let me know!\n",
      "\n",
      "--------------------------------------------------------------------------------\n",
      "\u001b[33mdialog_content_creator\u001b[0m (to chat_manager):\n",
      "\n",
      "Great! I'm here to assist with any additional requests or alterations you may have in mind. If you need to include more dialogue, change the scene, or modify the appearance of the agents, feel free to share your ideas. Just let me know how I can further help to create the desired outcome for your project.\n",
      "\n",
      "--------------------------------------------------------------------------------\n",
      "\u001b[33mUser_console_and_code_interpreter\u001b[0m (to chat_manager):\n",
      "\n",
      "\n",
      "\n",
      "--------------------------------------------------------------------------------\n",
      "\u001b[33mdialog_content_creator\u001b[0m (to chat_manager):\n",
      "\n",
      "Since there's no additional input or question, I'm assuming everything is clear up to this point.\n",
      "\n",
      "If you have further instructions, want to ask questions, or wish to explore another scenario or dialogue, just type it out.\n",
      "\n",
      "I'm here to assist with your matplotlib visualization or creative dialogue needs!\n",
      "\n",
      "--------------------------------------------------------------------------------\n",
      "\u001b[33mUser_console_and_code_interpreter\u001b[0m (to chat_manager):\n",
      "\n",
      "\n",
      "\n",
      "--------------------------------------------------------------------------------\n",
      "\u001b[33mdialog_content_creator\u001b[0m (to chat_manager):\n",
      "\n",
      "It seems there might have been an issue with our communication. If you have any questions or need assistance with a particular task, please provide the details, and I'll do my best to help you. Whether it's creating dialogues, improving visualization, or understanding matplotlib, I'm here to provide the support you need.\n",
      "\n",
      "--------------------------------------------------------------------------------\n"
     ]
    }
   ],
   "source": [
    "start_task(execution_task=building_task, agent_list=agent_list)"
   ]
  },
  {
   "cell_type": "markdown",
   "metadata": {},
   "source": [
    "## Step 7 (Optional): Clear all agents and prepare for the next task\n",
    "You can clear all agents generated in this task by the following code if your task is completed or the next task is largely different from the current task. If the agent's backbone is an open-source LLM, this process will also shut down the endpoint server. If necessary, you can use `recycle_endpoint=False` to retain the previous open-source LLMs' endpoint server."
   ]
  },
  {
   "cell_type": "code",
   "execution_count": 8,
   "metadata": {},
   "outputs": [
    {
     "name": "stdout",
     "output_type": "stream",
     "text": [
      "All agents have been cleared.\n"
     ]
    }
   ],
   "source": [
    "builder.clear_all_agents(recycle_endpoint=True)"
   ]
  },
  {
   "cell_type": "markdown",
   "metadata": {},
   "source": [
    "## Step 8: Save & load configs\n",
    "\n",
    "You can save all necessary information of the built group chat agents."
   ]
  },
  {
   "cell_type": "code",
   "execution_count": 9,
   "metadata": {},
   "outputs": [
    {
     "name": "stdout",
     "output_type": "stream",
     "text": [
      "Building config saved to ./save_config_673a2266713feeb3b23fbd5a9b1c714f.json\n"
     ]
    }
   ],
   "source": [
    "saved_path = builder.save()"
   ]
  },
  {
   "cell_type": "markdown",
   "metadata": {},
   "source": [
    "Here is a case for those agents generated in the above task\n",
    "\n",
    "```json\n",
    "{\n",
    "    \"building_task\": \"Draw two agents chatting with each other with an example dialog using matplotlib.\",\n",
    "    \"agent_configs\": [\n",
    "        {\n",
    "            \"name\": \"matplotlib_visual_designer\",\n",
    "            \"model\": \"gpt-4-1106-preview\",\n",
    "            \"system_message\": \"You are now in a group chat. You need to complete a task with other participants. As a matplotlib_visual_designer, your role is to create visual representations using matplotlib in Python. Your ability to draw and annotate figures with code is your key contribution within the group.\\n\\nWhen the task requires visual elements such as graphs, plots, or any other form of data visualization, utilize your expertise in Python and matplotlib to execute the necessary commands and produce the desired output. If additional information is needed, utilize matplotlib's documentation or other Python libraries to retrieve it.\\n\\nIf the task's objective is to create an illustrative example of two agents chatting, use your creativity and design skills to generate an engaging and informative static image that includes example dialogues. Ensure the visuals clearly convey the interaction between the agents.\\n\\nShould you encounter an issue with the code or output, or if something is unclear in the instructions provided in the chat, do not hesitate to express your concerns or ask for clarification. If confusion persists, seek assistance from the group chat manager, who can offer guidance or designate another participant to help.\\n\\nIn performing your duties, you will not need to provide code for execution. Your focus should be on the visualization aspect, providing clear, communicative designs as final images. Collaborate with your peers in the chat by sharing your insights, and when you believe the task has been completed to satisfaction, reply with \\\"TERMINATE.\\\" Your contributions should always aim to meet the visual communication needs of the group in the context of the task assigned.\",\n",
    "            \"description\": \"The matplotlib_visual_designer is an expert in data visualization using Python's matplotlib library, with a keen eye for aesthetic design and the ability to translate complex data into clear, engaging, and accurate graphical representations. They must be skilled in troubleshooting visual issues and improving the clarity of existing matplotlib code within the context of a group chat setting. This role requires a solid foundation in Python programming, specifically in relation to creating and refining plots and charts through matplotlib.\"\n",
    "        },\n",
    "        {\n",
    "            \"name\": \"dialog_content_creator\",\n",
    "            \"model\": \"gpt-4-1106-preview\",\n",
    "            \"system_message\": \"You are now a member of a creative team taking on the role of a dialog_content_creator. In this position, your primary responsibility is to craft engaging and natural dialogues between characters for various scenarios, including visual representations such as comic strips or storyboards, with today's task focusing on the use of matplotlib for illustrations.\\n\\nAs part of your duties, you will:\\n\\n1. Use your exceptional language skills to generate witty, realistic, and relevant dialogues between characters that suit the context of the illustration or story you are working on.\\n\\n2. Transform these dialogues into visual formats that can be easily understood and appreciated by an audience. This may involve plotting text and characters using tools such as matplotlib in Python.\\n\\n3. Ensure the visual elements align with the intended message and the dialogue flows naturally, enhancing the overall storytelling experience.\\n\\n4. Assess the effectiveness of the dialogues and illustrations, being open to doubts or questions regarding the content you've created. Your critical thinking will help refine and perfect the conversation for the final output.\\n\\n5. Keep in mind that coding skills in Python will be useful to execute specific tasks related to the visual representation of your dialogues. However, the core focus remains on your content creation capabilities.\\n\\nIf you encounter challenges or ambiguities in the process, do not hesitate to reach out for support and clarification from the group chat manager or other team members. Collaboration is key, and alternate perspectives can be invaluable when creating the best content possible.\\n\\nOnce your task is completed to your satisfaction, confirm its completion with a \\\"TERMINATE\\\" message. This signals that you have successfully met the user's needs and the project objectives have been accomplished.\",\n",
    "            \"description\": \"The Dialog Content Creator is a dynamic and vigilant communicator, adept at crafting engaging dialogue with a keen eye for reviewing and improving upon the flow of conversation within a group chat. They should possess strong language and editing skills, as well as the ability to critically analyze the context to identify inaccuracies or ambiguities in previous messages, intervening when necessary to clarify or correct the dialogue. If the role requires engaging with Python code, they should be proficient in reading and understanding Python scripts to verify and rectify any issues, ensuring the interaction remains accurate and informative.\"\n",
    "        },\n",
    "        {\n",
    "            \"name\": \"python_matplotlib_developer\",\n",
    "            \"model\": \"gpt-4-1106-preview\",\n",
    "            \"system_message\": \"You are now in a group chat. You need to complete a task with other participants. As a python_matplotlib_developer, you will use your expertise in Python and Matplotlib to visualize data and potentially create complex plots. You will be given tasks that relate to data visualization or graphical representation of data using Matplotlib. When you need to present information or data visualization, accomplish this by writing Python code utilizing the Matplotlib library to render images, graphs, or diagrams. Ensure all tasks involving code are performed in Python, with clear instructions on the completion of the task provided alongside.\\n\\nFor cases where you need to gather information or every time a new stage of the task is initiated, clearly articulate the information being sought or the step being embarked upon. If any issues arise, such as an absence of output after executing the code or encountering errors, you are encouraged to question the previous messages or code in the group chat and provide an updated solution. If at any point you face uncertainty, request assistance from the group chat manager who will provide guidance or assign the task to another participant.\\n\\nPlease remember that as a python_matplotlib_developer, your role is focused on coding in Python, primarily using Matplotlib for creating visualizations. If a task requires your response or completion, present this using Python code and ensure you deliver the full details of implementation instead of partial code snippets. Avoid multitasking within a single response, keep your instructions clear, and adhere to the group chat's guidance and flow.\\n\\nWhenever you finalize a task, or if you deem the completion of a task to be satisfactory, confirm with the group by stating \\\"TERMINATE\\\".\",\n",
    "            \"description\": \"The python_matplotlib_developer is a proficient Python coder with in-depth knowledge of the Matplotlib library, adept at data visualization, debugging code, and providing accurate graphical representations. This individual should be able to confidently critique and suggest corrections for Python Matplotlib code, ensuring that outputs are valid and effectively communicated. In a group chat, the python_matplotlib_developer can offer insights and fixes when there are issues with code execution or when data visualizations need to be optimized or corrected.\"\n",
    "        }\n",
    "    ],\n",
    "    \"coding\": true,\n",
    "    \"default_llm_config\": {\n",
    "        \"timeout\": 120\n",
    "    },\n",
    "    \"code_execution_config\": {\n",
    "        \"last_n_messages\": 2,\n",
    "        \"work_dir\": \"groupchat\",\n",
    "        \"use_docker\": false,\n",
    "        \"timeout\": 60\n",
    "    }\n",
    "}\n",
    "```"
   ]
  }
 ],
 "metadata": {
  "kernelspec": {
   "display_name": "Python 3",
   "language": "python",
   "name": "python3"
  },
  "language_info": {
   "codemirror_mode": {
    "name": "ipython",
    "version": 3
   },
   "file_extension": ".py",
   "mimetype": "text/x-python",
   "name": "python",
   "nbconvert_exporter": "python",
   "pygments_lexer": "ipython3",
   "version": "3.10.14"
  },
  "orig_nbformat": 4,
  "vscode": {
   "interpreter": {
    "hash": "e7370f93d1d0cde622a1f8e1c04877d8463912d04d973331ad4851f04de6915a"
   }
  }
 },
 "nbformat": 4,
 "nbformat_minor": 2
}
