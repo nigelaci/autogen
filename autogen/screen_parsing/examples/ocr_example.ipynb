{
 "cells": [
  {
   "cell_type": "markdown",
   "metadata": {},
   "source": [
    "# OCR demo"
   ]
  },
  {
   "cell_type": "code",
   "execution_count": 2,
   "metadata": {},
   "outputs": [
    {
     "name": "stdout",
     "output_type": "stream",
     "text": [
      "Obtaining file:///root/dev/cheng_autogen/autogen/autogen/screen_parsing\n",
      "  Preparing metadata (setup.py) ... \u001b[?25ldone\n",
      "\u001b[?25hRequirement already satisfied: numpy in /root/anaconda3/envs/autogen/lib/python3.10/site-packages (from screen-parsing==0.1.0) (1.26.2)\n",
      "Requirement already satisfied: beautifulsoup4 in /root/anaconda3/envs/autogen/lib/python3.10/site-packages (from screen-parsing==0.1.0) (4.12.2)\n",
      "Requirement already satisfied: markdownify in /root/anaconda3/envs/autogen/lib/python3.10/site-packages (from screen-parsing==0.1.0) (0.11.6)\n",
      "Requirement already satisfied: pathvalidate in /root/anaconda3/envs/autogen/lib/python3.10/site-packages (from screen-parsing==0.1.0) (3.2.0)\n",
      "Requirement already satisfied: puremagic in /root/anaconda3/envs/autogen/lib/python3.10/site-packages (from screen-parsing==0.1.0) (1.21)\n",
      "Requirement already satisfied: binaryornot in /root/anaconda3/envs/autogen/lib/python3.10/site-packages (from screen-parsing==0.1.0) (0.4.4)\n",
      "Requirement already satisfied: pdfminer.six in /root/anaconda3/envs/autogen/lib/python3.10/site-packages (from screen-parsing==0.1.0) (20231228)\n",
      "Requirement already satisfied: mammoth in /root/anaconda3/envs/autogen/lib/python3.10/site-packages (from screen-parsing==0.1.0) (1.7.1)\n",
      "Requirement already satisfied: python-pptx in /root/anaconda3/envs/autogen/lib/python3.10/site-packages (from screen-parsing==0.1.0) (0.6.23)\n",
      "Requirement already satisfied: pandas in /root/anaconda3/envs/autogen/lib/python3.10/site-packages (from screen-parsing==0.1.0) (2.2.0)\n",
      "Requirement already satisfied: openpyxl in /root/anaconda3/envs/autogen/lib/python3.10/site-packages (from screen-parsing==0.1.0) (3.1.2)\n",
      "Requirement already satisfied: youtube_transcript_api==0.6.0 in /root/anaconda3/envs/autogen/lib/python3.10/site-packages (from screen-parsing==0.1.0) (0.6.0)\n",
      "Requirement already satisfied: easyocr in /root/anaconda3/envs/autogen/lib/python3.10/site-packages (from screen-parsing==0.1.0) (1.7.1)\n",
      "Requirement already satisfied: requests in /root/anaconda3/envs/autogen/lib/python3.10/site-packages (from youtube_transcript_api==0.6.0->screen-parsing==0.1.0) (2.31.0)\n",
      "Requirement already satisfied: soupsieve>1.2 in /root/anaconda3/envs/autogen/lib/python3.10/site-packages (from beautifulsoup4->screen-parsing==0.1.0) (2.5)\n",
      "Requirement already satisfied: chardet>=3.0.2 in /root/anaconda3/envs/autogen/lib/python3.10/site-packages (from binaryornot->screen-parsing==0.1.0) (5.2.0)\n",
      "Requirement already satisfied: torch in /root/anaconda3/envs/autogen/lib/python3.10/site-packages (from easyocr->screen-parsing==0.1.0) (2.3.0)\n",
      "Requirement already satisfied: torchvision>=0.5 in /root/anaconda3/envs/autogen/lib/python3.10/site-packages (from easyocr->screen-parsing==0.1.0) (0.18.0)\n",
      "Requirement already satisfied: opencv-python-headless in /root/anaconda3/envs/autogen/lib/python3.10/site-packages (from easyocr->screen-parsing==0.1.0) (4.9.0.80)\n",
      "Requirement already satisfied: scipy in /root/anaconda3/envs/autogen/lib/python3.10/site-packages (from easyocr->screen-parsing==0.1.0) (1.12.0)\n",
      "Requirement already satisfied: Pillow in /root/anaconda3/envs/autogen/lib/python3.10/site-packages (from easyocr->screen-parsing==0.1.0) (10.1.0)\n",
      "Requirement already satisfied: scikit-image in /root/anaconda3/envs/autogen/lib/python3.10/site-packages (from easyocr->screen-parsing==0.1.0) (0.23.2)\n",
      "Requirement already satisfied: python-bidi in /root/anaconda3/envs/autogen/lib/python3.10/site-packages (from easyocr->screen-parsing==0.1.0) (0.4.2)\n",
      "Requirement already satisfied: PyYAML in /root/anaconda3/envs/autogen/lib/python3.10/site-packages (from easyocr->screen-parsing==0.1.0) (6.0.1)\n",
      "Requirement already satisfied: Shapely in /root/anaconda3/envs/autogen/lib/python3.10/site-packages (from easyocr->screen-parsing==0.1.0) (2.0.4)\n",
      "Requirement already satisfied: pyclipper in /root/anaconda3/envs/autogen/lib/python3.10/site-packages (from easyocr->screen-parsing==0.1.0) (1.3.0.post5)\n",
      "Requirement already satisfied: ninja in /root/anaconda3/envs/autogen/lib/python3.10/site-packages (from easyocr->screen-parsing==0.1.0) (1.11.1.1)\n",
      "Requirement already satisfied: cobble<0.2,>=0.1.3 in /root/anaconda3/envs/autogen/lib/python3.10/site-packages (from mammoth->screen-parsing==0.1.0) (0.1.3)\n",
      "Requirement already satisfied: six<2,>=1.15 in /root/anaconda3/envs/autogen/lib/python3.10/site-packages (from markdownify->screen-parsing==0.1.0) (1.16.0)\n",
      "Requirement already satisfied: et-xmlfile in /root/anaconda3/envs/autogen/lib/python3.10/site-packages (from openpyxl->screen-parsing==0.1.0) (1.1.0)\n",
      "Requirement already satisfied: python-dateutil>=2.8.2 in /root/anaconda3/envs/autogen/lib/python3.10/site-packages (from pandas->screen-parsing==0.1.0) (2.8.2)\n",
      "Requirement already satisfied: pytz>=2020.1 in /root/anaconda3/envs/autogen/lib/python3.10/site-packages (from pandas->screen-parsing==0.1.0) (2023.3.post1)\n",
      "Requirement already satisfied: tzdata>=2022.7 in /root/anaconda3/envs/autogen/lib/python3.10/site-packages (from pandas->screen-parsing==0.1.0) (2023.3)\n",
      "Requirement already satisfied: charset-normalizer>=2.0.0 in /root/anaconda3/envs/autogen/lib/python3.10/site-packages (from pdfminer.six->screen-parsing==0.1.0) (3.3.2)\n",
      "Requirement already satisfied: cryptography>=36.0.0 in /root/anaconda3/envs/autogen/lib/python3.10/site-packages (from pdfminer.six->screen-parsing==0.1.0) (42.0.3)\n",
      "Requirement already satisfied: lxml>=3.1.0 in /root/anaconda3/envs/autogen/lib/python3.10/site-packages (from python-pptx->screen-parsing==0.1.0) (4.9.4)\n",
      "Requirement already satisfied: XlsxWriter>=0.5.7 in /root/anaconda3/envs/autogen/lib/python3.10/site-packages (from python-pptx->screen-parsing==0.1.0) (3.2.0)\n",
      "Requirement already satisfied: cffi>=1.12 in /root/anaconda3/envs/autogen/lib/python3.10/site-packages (from cryptography>=36.0.0->pdfminer.six->screen-parsing==0.1.0) (1.16.0)\n",
      "Requirement already satisfied: filelock in /root/anaconda3/envs/autogen/lib/python3.10/site-packages (from torch->easyocr->screen-parsing==0.1.0) (3.13.1)\n",
      "Requirement already satisfied: typing-extensions>=4.8.0 in /root/anaconda3/envs/autogen/lib/python3.10/site-packages (from torch->easyocr->screen-parsing==0.1.0) (4.9.0)\n",
      "Requirement already satisfied: sympy in /root/anaconda3/envs/autogen/lib/python3.10/site-packages (from torch->easyocr->screen-parsing==0.1.0) (1.12)\n",
      "Requirement already satisfied: networkx in /root/anaconda3/envs/autogen/lib/python3.10/site-packages (from torch->easyocr->screen-parsing==0.1.0) (3.2.1)\n",
      "Requirement already satisfied: jinja2 in /root/anaconda3/envs/autogen/lib/python3.10/site-packages (from torch->easyocr->screen-parsing==0.1.0) (3.1.2)\n",
      "Requirement already satisfied: fsspec in /root/anaconda3/envs/autogen/lib/python3.10/site-packages (from torch->easyocr->screen-parsing==0.1.0) (2023.12.2)\n",
      "Requirement already satisfied: nvidia-cuda-nvrtc-cu12==12.1.105 in /root/anaconda3/envs/autogen/lib/python3.10/site-packages (from torch->easyocr->screen-parsing==0.1.0) (12.1.105)\n",
      "Requirement already satisfied: nvidia-cuda-runtime-cu12==12.1.105 in /root/anaconda3/envs/autogen/lib/python3.10/site-packages (from torch->easyocr->screen-parsing==0.1.0) (12.1.105)\n",
      "Requirement already satisfied: nvidia-cuda-cupti-cu12==12.1.105 in /root/anaconda3/envs/autogen/lib/python3.10/site-packages (from torch->easyocr->screen-parsing==0.1.0) (12.1.105)\n",
      "Requirement already satisfied: nvidia-cudnn-cu12==8.9.2.26 in /root/anaconda3/envs/autogen/lib/python3.10/site-packages (from torch->easyocr->screen-parsing==0.1.0) (8.9.2.26)\n",
      "Requirement already satisfied: nvidia-cublas-cu12==12.1.3.1 in /root/anaconda3/envs/autogen/lib/python3.10/site-packages (from torch->easyocr->screen-parsing==0.1.0) (12.1.3.1)\n",
      "Requirement already satisfied: nvidia-cufft-cu12==11.0.2.54 in /root/anaconda3/envs/autogen/lib/python3.10/site-packages (from torch->easyocr->screen-parsing==0.1.0) (11.0.2.54)\n",
      "Requirement already satisfied: nvidia-curand-cu12==10.3.2.106 in /root/anaconda3/envs/autogen/lib/python3.10/site-packages (from torch->easyocr->screen-parsing==0.1.0) (10.3.2.106)\n",
      "Requirement already satisfied: nvidia-cusolver-cu12==11.4.5.107 in /root/anaconda3/envs/autogen/lib/python3.10/site-packages (from torch->easyocr->screen-parsing==0.1.0) (11.4.5.107)\n",
      "Requirement already satisfied: nvidia-cusparse-cu12==12.1.0.106 in /root/anaconda3/envs/autogen/lib/python3.10/site-packages (from torch->easyocr->screen-parsing==0.1.0) (12.1.0.106)\n",
      "Requirement already satisfied: nvidia-nccl-cu12==2.20.5 in /root/anaconda3/envs/autogen/lib/python3.10/site-packages (from torch->easyocr->screen-parsing==0.1.0) (2.20.5)\n",
      "Requirement already satisfied: nvidia-nvtx-cu12==12.1.105 in /root/anaconda3/envs/autogen/lib/python3.10/site-packages (from torch->easyocr->screen-parsing==0.1.0) (12.1.105)\n",
      "Requirement already satisfied: triton==2.3.0 in /root/anaconda3/envs/autogen/lib/python3.10/site-packages (from torch->easyocr->screen-parsing==0.1.0) (2.3.0)\n",
      "Requirement already satisfied: nvidia-nvjitlink-cu12 in /root/anaconda3/envs/autogen/lib/python3.10/site-packages (from nvidia-cusolver-cu12==11.4.5.107->torch->easyocr->screen-parsing==0.1.0) (12.3.101)\n",
      "Requirement already satisfied: idna<4,>=2.5 in /root/anaconda3/envs/autogen/lib/python3.10/site-packages (from requests->youtube_transcript_api==0.6.0->screen-parsing==0.1.0) (3.6)\n",
      "Requirement already satisfied: urllib3<3,>=1.21.1 in /root/anaconda3/envs/autogen/lib/python3.10/site-packages (from requests->youtube_transcript_api==0.6.0->screen-parsing==0.1.0) (2.1.0)\n",
      "Requirement already satisfied: certifi>=2017.4.17 in /root/anaconda3/envs/autogen/lib/python3.10/site-packages (from requests->youtube_transcript_api==0.6.0->screen-parsing==0.1.0) (2023.11.17)\n",
      "Requirement already satisfied: imageio>=2.33 in /root/anaconda3/envs/autogen/lib/python3.10/site-packages (from scikit-image->easyocr->screen-parsing==0.1.0) (2.34.1)\n",
      "Requirement already satisfied: tifffile>=2022.8.12 in /root/anaconda3/envs/autogen/lib/python3.10/site-packages (from scikit-image->easyocr->screen-parsing==0.1.0) (2024.5.10)\n",
      "Requirement already satisfied: packaging>=21 in /root/anaconda3/envs/autogen/lib/python3.10/site-packages (from scikit-image->easyocr->screen-parsing==0.1.0) (23.2)\n",
      "Requirement already satisfied: lazy-loader>=0.4 in /root/anaconda3/envs/autogen/lib/python3.10/site-packages (from scikit-image->easyocr->screen-parsing==0.1.0) (0.4)\n",
      "Requirement already satisfied: pycparser in /root/anaconda3/envs/autogen/lib/python3.10/site-packages (from cffi>=1.12->cryptography>=36.0.0->pdfminer.six->screen-parsing==0.1.0) (2.21)\n",
      "Requirement already satisfied: MarkupSafe>=2.0 in /root/anaconda3/envs/autogen/lib/python3.10/site-packages (from jinja2->torch->easyocr->screen-parsing==0.1.0) (2.1.3)\n",
      "Requirement already satisfied: mpmath>=0.19 in /root/anaconda3/envs/autogen/lib/python3.10/site-packages (from sympy->torch->easyocr->screen-parsing==0.1.0) (1.3.0)\n",
      "Installing collected packages: screen-parsing\n",
      "  Attempting uninstall: screen-parsing\n",
      "    Found existing installation: screen-parsing 0.1.0\n",
      "    Uninstalling screen-parsing-0.1.0:\n",
      "      Successfully uninstalled screen-parsing-0.1.0\n",
      "  Running setup.py develop for screen-parsing\n",
      "Successfully installed screen-parsing-0.1.0\n",
      "\u001b[33mWARNING: Running pip as the 'root' user can result in broken permissions and conflicting behaviour with the system package manager. It is recommended to use a virtual environment instead: https://pip.pypa.io/warnings/venv\u001b[0m\u001b[33m\n",
      "\u001b[0mNote: you may need to restart the kernel to use updated packages.\n"
     ]
    }
   ],
   "source": [
    "%pip install -e ../."
   ]
  },
  {
   "cell_type": "code",
   "execution_count": 3,
   "metadata": {},
   "outputs": [
    {
     "name": "stderr",
     "output_type": "stream",
     "text": [
      "/root/anaconda3/envs/autogen/lib/python3.10/site-packages/tqdm/auto.py:21: TqdmWarning: IProgress not found. Please update jupyter and ipywidgets. See https://ipywidgets.readthedocs.io/en/stable/user_install.html\n",
      "  from .autonotebook import tqdm as notebook_tqdm\n"
     ]
    }
   ],
   "source": [
    "from screen_parsing.ocr import OCR"
   ]
  },
  {
   "cell_type": "code",
   "execution_count": 7,
   "metadata": {},
   "outputs": [
    {
     "name": "stdout",
     "output_type": "stream",
     "text": [
      "Text detected by OCR:\n",
      "Postmill Forums Wiki up Submissions Comments Featured - Hot Featured forums There are no featured forums display: Running Postmill Log Sign\n"
     ]
    }
   ],
   "source": [
    "ocr = OCR()\n",
    "\n",
    "img_path='./test_ocr.png'\n",
    "img_content = None\n",
    "\n",
    "with open(img_path, 'rb') as file:\n",
    "    img_content = file.read()\n",
    "\n",
    "result = ocr.get_ocr_text(img_content)\n",
    "print(result)"
   ]
  }
 ],
 "metadata": {
  "kernelspec": {
   "display_name": "autogen",
   "language": "python",
   "name": "python3"
  },
  "language_info": {
   "codemirror_mode": {
    "name": "ipython",
    "version": 3
   },
   "file_extension": ".py",
   "mimetype": "text/x-python",
   "name": "python",
   "nbconvert_exporter": "python",
   "pygments_lexer": "ipython3",
   "version": "3.10.13"
  }
 },
 "nbformat": 4,
 "nbformat_minor": 2
}
